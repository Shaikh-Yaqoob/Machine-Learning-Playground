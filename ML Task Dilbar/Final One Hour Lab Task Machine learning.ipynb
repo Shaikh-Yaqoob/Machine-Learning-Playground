{
 "cells": [
  {
   "cell_type": "code",
   "execution_count": 35,
   "id": "3a6371cd",
   "metadata": {},
   "outputs": [],
   "source": [
    "import pandas as pd\n",
    "import matplotlib.pyplot as plt\n",
    "import numpy as np\n",
    "from sklearn.decomposition import PCA\n",
    "import seaborn as sns\n",
    "from sklearn.preprocessing import StandardScaler"
   ]
  },
  {
   "cell_type": "code",
   "execution_count": 36,
   "id": "5ba67e7f",
   "metadata": {},
   "outputs": [
    {
     "data": {
      "text/html": [
       "<div>\n",
       "<style scoped>\n",
       "    .dataframe tbody tr th:only-of-type {\n",
       "        vertical-align: middle;\n",
       "    }\n",
       "\n",
       "    .dataframe tbody tr th {\n",
       "        vertical-align: top;\n",
       "    }\n",
       "\n",
       "    .dataframe thead th {\n",
       "        text-align: right;\n",
       "    }\n",
       "</style>\n",
       "<table border=\"1\" class=\"dataframe\">\n",
       "  <thead>\n",
       "    <tr style=\"text-align: right;\">\n",
       "      <th></th>\n",
       "      <th>Customer ID</th>\n",
       "      <th>Age</th>\n",
       "      <th>City</th>\n",
       "      <th>Income</th>\n",
       "      <th>Education Level</th>\n",
       "      <th>Last Purchase Date</th>\n",
       "      <th>Monthly Spending</th>\n",
       "      <th>Preferred Product Category</th>\n",
       "    </tr>\n",
       "  </thead>\n",
       "  <tbody>\n",
       "    <tr>\n",
       "      <th>0</th>\n",
       "      <td>1</td>\n",
       "      <td>32.0</td>\n",
       "      <td>New York</td>\n",
       "      <td>60000.0</td>\n",
       "      <td>Bachelor's</td>\n",
       "      <td>10/25/2023</td>\n",
       "      <td>250</td>\n",
       "      <td>Electronics</td>\n",
       "    </tr>\n",
       "    <tr>\n",
       "      <th>1</th>\n",
       "      <td>2</td>\n",
       "      <td>28.0</td>\n",
       "      <td>Los Angeles</td>\n",
       "      <td>45000.0</td>\n",
       "      <td>Associate's</td>\n",
       "      <td>11/12/2023</td>\n",
       "      <td>180</td>\n",
       "      <td>Clothing</td>\n",
       "    </tr>\n",
       "    <tr>\n",
       "      <th>2</th>\n",
       "      <td>3</td>\n",
       "      <td>40.0</td>\n",
       "      <td>Chicago</td>\n",
       "      <td>52000.0</td>\n",
       "      <td>High School</td>\n",
       "      <td>10/7/2023</td>\n",
       "      <td>300</td>\n",
       "      <td>Groceries</td>\n",
       "    </tr>\n",
       "    <tr>\n",
       "      <th>3</th>\n",
       "      <td>4</td>\n",
       "      <td>NaN</td>\n",
       "      <td>San Francisco</td>\n",
       "      <td>NaN</td>\n",
       "      <td>NaN</td>\n",
       "      <td>11/5/2023</td>\n",
       "      <td>150</td>\n",
       "      <td>Home Improvement</td>\n",
       "    </tr>\n",
       "    <tr>\n",
       "      <th>4</th>\n",
       "      <td>5</td>\n",
       "      <td>25.0</td>\n",
       "      <td>Atlanta</td>\n",
       "      <td>38000.0</td>\n",
       "      <td>Diploma</td>\n",
       "      <td>10/15/2023</td>\n",
       "      <td>120</td>\n",
       "      <td>Beauty</td>\n",
       "    </tr>\n",
       "  </tbody>\n",
       "</table>\n",
       "</div>"
      ],
      "text/plain": [
       "   Customer ID   Age           City   Income Education Level  \\\n",
       "0            1  32.0       New York  60000.0      Bachelor's   \n",
       "1            2  28.0    Los Angeles  45000.0     Associate's   \n",
       "2            3  40.0        Chicago  52000.0     High School   \n",
       "3            4   NaN  San Francisco      NaN             NaN   \n",
       "4            5  25.0        Atlanta  38000.0         Diploma   \n",
       "\n",
       "  Last Purchase Date  Monthly Spending Preferred Product Category  \n",
       "0         10/25/2023               250                Electronics  \n",
       "1         11/12/2023               180                   Clothing  \n",
       "2          10/7/2023               300                  Groceries  \n",
       "3          11/5/2023               150           Home Improvement  \n",
       "4         10/15/2023               120                     Beauty  "
      ]
     },
     "execution_count": 36,
     "metadata": {},
     "output_type": "execute_result"
    }
   ],
   "source": [
    "df = pd.read_csv(\"C:\\\\Users\\\\Asad Computrs\\\\Downloads\\\\customer.csv\")\n",
    "df.head()"
   ]
  },
  {
   "cell_type": "code",
   "execution_count": 15,
   "id": "fb6f68e7",
   "metadata": {},
   "outputs": [
    {
     "name": "stdout",
     "output_type": "stream",
     "text": [
      "   Customer ID   Age           City        Income Education Level  \\\n",
      "0            1  32.0       New York  60000.000000      Bachelor's   \n",
      "1            2  28.0    Los Angeles  45000.000000     Associate's   \n",
      "2            3  40.0        Chicago  52000.000000     High School   \n",
      "3            4  32.0  San Francisco  51714.285714     Associate's   \n",
      "4            5  25.0        Atlanta  38000.000000         Diploma   \n",
      "5            6  36.0        Seattle  70000.000000        Master's   \n",
      "6            7  22.0        Houston  51714.285714         Diploma   \n",
      "7            8  48.0          Miami  55000.000000      Bachelor's   \n",
      "8            9  30.0         Denver  51714.285714     Associate's   \n",
      "9           10  27.0   Philadelphia  42000.000000     High School   \n",
      "\n",
      "  Last Purchase Date  Monthly Spending Preferred Product Category  \n",
      "0         10/25/2023               250                Electronics  \n",
      "1         11/12/2023               180                   Clothing  \n",
      "2          10/7/2023               300                  Groceries  \n",
      "3          11/5/2023               150           Home Improvement  \n",
      "4         10/15/2023               120                     Beauty  \n",
      "5         11/20/2023               400           Sports & Fitness  \n",
      "6         10/28/2023                80                     Beauty  \n",
      "7          11/8/2023               220                     Travel  \n",
      "8         10/18/2023               100                     Beauty  \n",
      "9         10/30/2023               160              Entertainment  \n"
     ]
    }
   ],
   "source": [
    "df['Age'].fillna(df['Age'].mean(), inplace=True)\n",
    "df['Income'].fillna(df['Income'].mean(), inplace=True)\n",
    "df['Education Level'].fillna(df['Education Level'].mode()[0], inplace=True)\n",
    "df['Preferred Product Category'].fillna(df['Preferred Product Category'].mode()[0], inplace=True)\n",
    "print(df)"
   ]
  },
  {
   "cell_type": "code",
   "execution_count": 24,
   "id": "754696f6",
   "metadata": {},
   "outputs": [
    {
     "name": "stdout",
     "output_type": "stream",
     "text": [
      "missing values of distribution:\n",
      "Customer ID                   0\n",
      "Age                           0\n",
      "City                          0\n",
      "Income                        0\n",
      "Education Level               0\n",
      "Last Purchase Date            0\n",
      "Monthly Spending              0\n",
      "Preferred Product Category    0\n",
      "dtype: int64\n"
     ]
    }
   ],
   "source": [
    "missing_values = df.isnull().sum()\n",
    "print(\"missing values of distribution:\")\n",
    "print(missing_values)"
   ]
  },
  {
   "cell_type": "code",
   "execution_count": 33,
   "id": "02e44314",
   "metadata": {},
   "outputs": [
    {
     "name": "stdout",
     "output_type": "stream",
     "text": [
      "\n",
      "Updated Dataset:\n",
      "   Customer ID   Age           City        Income Education Level  \\\n",
      "0            1  32.0       New York  60000.000000      Bachelor's   \n",
      "1            2  28.0    Los Angeles  45000.000000     Associate's   \n",
      "2            3  40.0        Chicago  52000.000000     High School   \n",
      "3            4  32.0  San Francisco  51714.285714     Associate's   \n",
      "4            5  25.0        Atlanta  38000.000000         Diploma   \n",
      "5            6  36.0        Seattle  70000.000000        Master's   \n",
      "6            7  22.0        Houston  51714.285714         Diploma   \n",
      "7            8  48.0          Miami  55000.000000      Bachelor's   \n",
      "8            9  30.0         Denver  51714.285714     Associate's   \n",
      "9           10  27.0   Philadelphia  42000.000000     High School   \n",
      "\n",
      "  Last Purchase Date  Monthly Spending Preferred Product Category  \n",
      "0         10/25/2023               250                Electronics  \n",
      "1         11/12/2023               180                   Clothing  \n",
      "2          10/7/2023               300                  Groceries  \n",
      "3          11/5/2023               150           Home Improvement  \n",
      "4         10/15/2023               120                     Beauty  \n",
      "5         11/20/2023               400           Sports & Fitness  \n",
      "6         10/28/2023                80                     Beauty  \n",
      "7          11/8/2023               220                     Travel  \n",
      "8         10/18/2023               100                     Beauty  \n",
      "9         10/30/2023               160              Entertainment  \n"
     ]
    }
   ],
   "source": [
    "df['Age'].fillna(df['Age'].median(), inplace=True)\n",
    "df['Income'].fillna(df['Income'].median(), inplace=True)\n",
    "\n",
    "df['Education Level'].fillna(df['Education Level'].mode()[0], inplace=True)\n",
    "df['Preferred Product Category'].fillna(df['Preferred Product Category'].mode()[0], inplace=True)\n",
    "\n",
    "print(\"\\nUpdated Dataset:\")\n",
    "print(df)"
   ]
  },
  {
   "cell_type": "code",
   "execution_count": 25,
   "id": "8d3bdc71",
   "metadata": {},
   "outputs": [
    {
     "name": "stdout",
     "output_type": "stream",
     "text": [
      "Statistics:\n",
      "            Age        Income  Monthly Spending\n",
      "count  10.00000     10.000000         10.000000\n",
      "mean   32.00000  51714.285714        196.000000\n",
      "std     7.67391   9076.395341         98.905117\n",
      "min    22.00000  38000.000000         80.000000\n",
      "25%    27.25000  46678.571429        127.500000\n",
      "50%    31.00000  51714.285714        170.000000\n",
      "75%    35.00000  54250.000000        242.500000\n",
      "max    48.00000  70000.000000        400.000000\n"
     ]
    }
   ],
   "source": [
    "numerical_stats = df[['Age', 'Income', 'Monthly Spending']].describe()\n",
    "print(\"Statistics:\")\n",
    "print(numerical_stats)"
   ]
  },
  {
   "cell_type": "code",
   "execution_count": 19,
   "id": "c35522ef",
   "metadata": {},
   "outputs": [
    {
     "name": "stderr",
     "output_type": "stream",
     "text": [
      "C:\\Users\\Asad Computrs\\AppData\\Local\\Temp\\ipykernel_3968\\1694208085.py:5: SettingWithCopyWarning: \n",
      "A value is trying to be set on a copy of a slice from a DataFrame.\n",
      "Try using .loc[row_indexer,col_indexer] = value instead\n",
      "\n",
      "See the caveats in the documentation: https://pandas.pydata.org/pandas-docs/stable/user_guide/indexing.html#returning-a-view-versus-a-copy\n",
      "  numerical_features.fillna(numerical_features.median(), inplace=True)\n"
     ]
    }
   ],
   "source": [
    "numerical_features = df[['Age', 'Income', 'Monthly Spending']]\n",
    "numerical_features.fillna(numerical_features.median(), inplace=True)"
   ]
  },
  {
   "cell_type": "code",
   "execution_count": 26,
   "id": "cb5e4cda",
   "metadata": {},
   "outputs": [],
   "source": [
    "scale = StandardScaler()\n",
    "numerical_features_standardized = scale.fit_transform(numerical_features)"
   ]
  },
  {
   "cell_type": "code",
   "execution_count": 27,
   "id": "86852f13",
   "metadata": {},
   "outputs": [],
   "source": [
    "pca_1 = PCA(n_components=2)\n",
    "principal_components = pca_1.fit_transform(numerical_features_standardized)"
   ]
  },
  {
   "cell_type": "code",
   "execution_count": 28,
   "id": "6e37eb55",
   "metadata": {},
   "outputs": [],
   "source": [
    "df_red = pd.DataFrame(data=principal_components, columns=['Principal Component 1', 'Principal Component 2'])\n",
    "df_red['Preferred Product Category'] = df['Preferred Product Category']"
   ]
  },
  {
   "cell_type": "code",
   "execution_count": 34,
   "id": "15c49c04",
   "metadata": {},
   "outputs": [
    {
     "data": {
      "image/png": "[encoded data removed]",
      "text/plain": [
       "<Figure size 600x400 with 1 Axes>"
      ]
     },
     "metadata": {},
     "output_type": "display_data"
    }
   ],
   "source": [
    "plt.figure(figsize=(6, 4))\n",
    "sns.scatterplot(x='Principal Component 1', y='Principal Component 2', hue='Preferred Product Category', data=reduced_df)\n",
    "plt.title('reduced dimensinality of PCA with Preferred Product Category')\n",
    "plt.show()"
   ]
  },
  {
   "cell_type": "code",
   "execution_count": null,
   "id": "d6f5d7c8",
   "metadata": {},
   "outputs": [],
   "source": []
  }
 ],
 "metadata": {
  "kernelspec": {
   "display_name": "Python 3 (ipykernel)",
   "language": "python",
   "name": "python3"
  },
  "language_info": {
   "codemirror_mode": {
    "name": "ipython",
    "version": 3
   },
   "file_extension": ".py",
   "mimetype": "text/x-python",
   "name": "python",
   "nbconvert_exporter": "python",
   "pygments_lexer": "ipython3",
   "version": "3.11.3"
  }
 },
 "nbformat": 4,
 "nbformat_minor": 5
}
