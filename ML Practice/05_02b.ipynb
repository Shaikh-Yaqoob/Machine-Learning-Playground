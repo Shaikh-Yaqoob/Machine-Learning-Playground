{
 "cells": [
  {
   "cell_type": "markdown",
   "metadata": {},
   "source": [
    "# How to Build a Machine Learning Model in Python\n",
    "\n",
    "## Learning Objectives\n",
    "In the modeling stage of the machine learning process, our goal is to choose and apply the appropriate machine learning approach that works with the data we have and solves the problem that we intend to solve. If our objective is to build a model that predicts a numeric or continuous value, then our problem is known as a regression problem. One of the most common models used in solving regression problems is **Linear Regression**. By the end of the tutorial, you will have learned:\n",
    "\n",
    "+ how to collect, explore and prepare data\n",
    "+ how to build and evaluate a model"
   ]
  },
  {
   "cell_type": "markdown",
   "metadata": {
    "colab_type": "text",
    "id": "H4h5CV-p3fsD"
   },
   "source": [
    "## 1. Collect the Data"
   ]
  },
  {
   "cell_type": "code",
   "execution_count": 7,
   "metadata": {
    "colab": {},
    "colab_type": "code",
    "id": "ZBtXnome3fr0",
    "scrolled": false
   },
   "outputs": [
    {
     "data": {
      "text/html": [
       "<div>\n",
       "<style scoped>\n",
       "    .dataframe tbody tr th:only-of-type {\n",
       "        vertical-align: middle;\n",
       "    }\n",
       "\n",
       "    .dataframe tbody tr th {\n",
       "        vertical-align: top;\n",
       "    }\n",
       "\n",
       "    .dataframe thead th {\n",
       "        text-align: right;\n",
       "    }\n",
       "</style>\n",
       "<table border=\"1\" class=\"dataframe\">\n",
       "  <thead>\n",
       "    <tr style=\"text-align: right;\">\n",
       "      <th></th>\n",
       "      <th>temperature</th>\n",
       "      <th>humidity</th>\n",
       "      <th>windspeed</th>\n",
       "      <th>rentals</th>\n",
       "    </tr>\n",
       "  </thead>\n",
       "  <tbody>\n",
       "    <tr>\n",
       "      <th>0</th>\n",
       "      <td>46.716528</td>\n",
       "      <td>0.815969</td>\n",
       "      <td>13.669663</td>\n",
       "      <td>985</td>\n",
       "    </tr>\n",
       "    <tr>\n",
       "      <th>1</th>\n",
       "      <td>48.350239</td>\n",
       "      <td>0.800497</td>\n",
       "      <td>15.199782</td>\n",
       "      <td>801</td>\n",
       "    </tr>\n",
       "    <tr>\n",
       "      <th>2</th>\n",
       "      <td>34.212394</td>\n",
       "      <td>0.592097</td>\n",
       "      <td>13.247558</td>\n",
       "      <td>1349</td>\n",
       "    </tr>\n",
       "    <tr>\n",
       "      <th>3</th>\n",
       "      <td>34.520000</td>\n",
       "      <td>0.623196</td>\n",
       "      <td>11.687963</td>\n",
       "      <td>1562</td>\n",
       "    </tr>\n",
       "    <tr>\n",
       "      <th>4</th>\n",
       "      <td>36.800562</td>\n",
       "      <td>0.624643</td>\n",
       "      <td>13.148281</td>\n",
       "      <td>1600</td>\n",
       "    </tr>\n",
       "  </tbody>\n",
       "</table>\n",
       "</div>"
      ],
      "text/plain": [
       "   temperature  humidity  windspeed  rentals\n",
       "0    46.716528  0.815969  13.669663      985\n",
       "1    48.350239  0.800497  15.199782      801\n",
       "2    34.212394  0.592097  13.247558     1349\n",
       "3    34.520000  0.623196  11.687963     1562\n",
       "4    36.800562  0.624643  13.148281     1600"
      ]
     },
     "execution_count": 7,
     "metadata": {},
     "output_type": "execute_result"
    }
   ],
   "source": [
    "import pandas as pd\n",
    "bikes = pd.read_csv(\"bikes.csv\")\n",
    "bikes.head()"
   ]
  },
  {
   "cell_type": "markdown",
   "metadata": {},
   "source": [
    "## 2. Explore the Data"
   ]
  },
  {
   "cell_type": "code",
   "execution_count": 8,
   "metadata": {},
   "outputs": [
    {
     "name": "stdout",
     "output_type": "stream",
     "text": [
      "<class 'pandas.core.frame.DataFrame'>\n",
      "RangeIndex: 731 entries, 0 to 730\n",
      "Data columns (total 4 columns):\n",
      " #   Column       Non-Null Count  Dtype  \n",
      "---  ------       --------------  -----  \n",
      " 0   temperature  731 non-null    float64\n",
      " 1   humidity     731 non-null    float64\n",
      " 2   windspeed    731 non-null    float64\n",
      " 3   rentals      731 non-null    int64  \n",
      "dtypes: float64(3), int64(1)\n",
      "memory usage: 23.0 KB\n"
     ]
    }
   ],
   "source": [
    "bikes.info()"
   ]
  },
  {
   "cell_type": "code",
   "execution_count": 9,
   "metadata": {},
   "outputs": [
    {
     "data": {
      "text/html": [
       "<div>\n",
       "<style scoped>\n",
       "    .dataframe tbody tr th:only-of-type {\n",
       "        vertical-align: middle;\n",
       "    }\n",
       "\n",
       "    .dataframe tbody tr th {\n",
       "        vertical-align: top;\n",
       "    }\n",
       "\n",
       "    .dataframe thead th {\n",
       "        text-align: right;\n",
       "    }\n",
       "</style>\n",
       "<table border=\"1\" class=\"dataframe\">\n",
       "  <thead>\n",
       "    <tr style=\"text-align: right;\">\n",
       "      <th></th>\n",
       "      <th>temperature</th>\n",
       "      <th>humidity</th>\n",
       "      <th>windspeed</th>\n",
       "      <th>rentals</th>\n",
       "    </tr>\n",
       "  </thead>\n",
       "  <tbody>\n",
       "    <tr>\n",
       "      <th>count</th>\n",
       "      <td>731.000000</td>\n",
       "      <td>731.000000</td>\n",
       "      <td>731.000000</td>\n",
       "      <td>731.000000</td>\n",
       "    </tr>\n",
       "    <tr>\n",
       "      <th>mean</th>\n",
       "      <td>59.509553</td>\n",
       "      <td>0.486937</td>\n",
       "      <td>9.238886</td>\n",
       "      <td>4504.348837</td>\n",
       "    </tr>\n",
       "    <tr>\n",
       "      <th>std</th>\n",
       "      <td>15.486114</td>\n",
       "      <td>0.185415</td>\n",
       "      <td>3.379815</td>\n",
       "      <td>1937.211452</td>\n",
       "    </tr>\n",
       "    <tr>\n",
       "      <th>min</th>\n",
       "      <td>22.602432</td>\n",
       "      <td>0.000000</td>\n",
       "      <td>0.932208</td>\n",
       "      <td>22.000000</td>\n",
       "    </tr>\n",
       "    <tr>\n",
       "      <th>25%</th>\n",
       "      <td>46.117264</td>\n",
       "      <td>0.353548</td>\n",
       "      <td>6.863568</td>\n",
       "      <td>3152.000000</td>\n",
       "    </tr>\n",
       "    <tr>\n",
       "      <th>50%</th>\n",
       "      <td>59.758972</td>\n",
       "      <td>0.502227</td>\n",
       "      <td>9.503508</td>\n",
       "      <td>4548.000000</td>\n",
       "    </tr>\n",
       "    <tr>\n",
       "      <th>75%</th>\n",
       "      <td>73.048236</td>\n",
       "      <td>0.624671</td>\n",
       "      <td>11.814559</td>\n",
       "      <td>5956.000000</td>\n",
       "    </tr>\n",
       "    <tr>\n",
       "      <th>max</th>\n",
       "      <td>90.497028</td>\n",
       "      <td>0.972500</td>\n",
       "      <td>21.126627</td>\n",
       "      <td>8714.000000</td>\n",
       "    </tr>\n",
       "  </tbody>\n",
       "</table>\n",
       "</div>"
      ],
      "text/plain": [
       "       temperature    humidity   windspeed      rentals\n",
       "count   731.000000  731.000000  731.000000   731.000000\n",
       "mean     59.509553    0.486937    9.238886  4504.348837\n",
       "std      15.486114    0.185415    3.379815  1937.211452\n",
       "min      22.602432    0.000000    0.932208    22.000000\n",
       "25%      46.117264    0.353548    6.863568  3152.000000\n",
       "50%      59.758972    0.502227    9.503508  4548.000000\n",
       "75%      73.048236    0.624671   11.814559  5956.000000\n",
       "max      90.497028    0.972500   21.126627  8714.000000"
      ]
     },
     "execution_count": 9,
     "metadata": {},
     "output_type": "execute_result"
    }
   ],
   "source": [
    "bikes.describe()"
   ]
  },
  {
   "cell_type": "code",
   "execution_count": 10,
   "metadata": {
    "scrolled": true
   },
   "outputs": [
    {
     "data": {
      "text/plain": [
       "<Axes: xlabel='temperature', ylabel='rentals'>"
      ]
     },
     "execution_count": 10,
     "metadata": {},
     "output_type": "execute_result"
    },
    {
     "data": {
      "image/png": "[encoded data removed]",
      "text/plain": [
       "<Figure size 640x480 with 1 Axes>"
      ]
     },
     "metadata": {},
     "output_type": "display_data"
    }
   ],
   "source": [
    "%matplotlib inline\n",
    "bikes.plot(kind = 'scatter', x = 'temperature', y = 'rentals')"
   ]
  },
  {
   "cell_type": "code",
   "execution_count": 11,
   "metadata": {},
   "outputs": [
    {
     "data": {
      "text/plain": [
       "<Axes: xlabel='humidity', ylabel='rentals'>"
      ]
     },
     "execution_count": 11,
     "metadata": {},
     "output_type": "execute_result"
    },
    {
     "data": {
      "image/png": "[encoded data removed]",
      "text/plain": [
       "<Figure size 640x480 with 1 Axes>"
      ]
     },
     "metadata": {},
     "output_type": "display_data"
    }
   ],
   "source": [
    "bikes.plot(kind = 'scatter', x = 'humidity', y = 'rentals')"
   ]
  },
  {
   "cell_type": "code",
   "execution_count": 12,
   "metadata": {},
   "outputs": [
    {
     "data": {
      "text/plain": [
       "<Axes: xlabel='windspeed', ylabel='rentals'>"
      ]
     },
     "execution_count": 12,
     "metadata": {},
     "output_type": "execute_result"
    },
    {
     "data": {
      "image/png": "[encoded data removed]",
      "text/plain": [
       "<Figure size 640x480 with 1 Axes>"
      ]
     },
     "metadata": {},
     "output_type": "display_data"
    }
   ],
   "source": [
    "bikes.plot(kind = 'scatter', x = 'windspeed', y = 'rentals')"
   ]
  },
  {
   "cell_type": "markdown",
   "metadata": {},
   "source": [
    "## 3. Prepare the Data"
   ]
  },
  {
   "cell_type": "code",
   "execution_count": 13,
   "metadata": {},
   "outputs": [
    {
     "data": {
      "text/html": [
       "<div>\n",
       "<style scoped>\n",
       "    .dataframe tbody tr th:only-of-type {\n",
       "        vertical-align: middle;\n",
       "    }\n",
       "\n",
       "    .dataframe tbody tr th {\n",
       "        vertical-align: top;\n",
       "    }\n",
       "\n",
       "    .dataframe thead th {\n",
       "        text-align: right;\n",
       "    }\n",
       "</style>\n",
       "<table border=\"1\" class=\"dataframe\">\n",
       "  <thead>\n",
       "    <tr style=\"text-align: right;\">\n",
       "      <th></th>\n",
       "      <th>rentals</th>\n",
       "    </tr>\n",
       "  </thead>\n",
       "  <tbody>\n",
       "    <tr>\n",
       "      <th>0</th>\n",
       "      <td>985</td>\n",
       "    </tr>\n",
       "    <tr>\n",
       "      <th>1</th>\n",
       "      <td>801</td>\n",
       "    </tr>\n",
       "    <tr>\n",
       "      <th>2</th>\n",
       "      <td>1349</td>\n",
       "    </tr>\n",
       "    <tr>\n",
       "      <th>3</th>\n",
       "      <td>1562</td>\n",
       "    </tr>\n",
       "    <tr>\n",
       "      <th>4</th>\n",
       "      <td>1600</td>\n",
       "    </tr>\n",
       "    <tr>\n",
       "      <th>...</th>\n",
       "      <td>...</td>\n",
       "    </tr>\n",
       "    <tr>\n",
       "      <th>726</th>\n",
       "      <td>2114</td>\n",
       "    </tr>\n",
       "    <tr>\n",
       "      <th>727</th>\n",
       "      <td>3095</td>\n",
       "    </tr>\n",
       "    <tr>\n",
       "      <th>728</th>\n",
       "      <td>1341</td>\n",
       "    </tr>\n",
       "    <tr>\n",
       "      <th>729</th>\n",
       "      <td>1796</td>\n",
       "    </tr>\n",
       "    <tr>\n",
       "      <th>730</th>\n",
       "      <td>2729</td>\n",
       "    </tr>\n",
       "  </tbody>\n",
       "</table>\n",
       "<p>731 rows × 1 columns</p>\n",
       "</div>"
      ],
      "text/plain": [
       "     rentals\n",
       "0        985\n",
       "1        801\n",
       "2       1349\n",
       "3       1562\n",
       "4       1600\n",
       "..       ...\n",
       "726     2114\n",
       "727     3095\n",
       "728     1341\n",
       "729     1796\n",
       "730     2729\n",
       "\n",
       "[731 rows x 1 columns]"
      ]
     },
     "execution_count": 13,
     "metadata": {},
     "output_type": "execute_result"
    }
   ],
   "source": [
    "response = 'rentals'\n",
    "y = bikes[[response]]\n",
    "y"
   ]
  },
  {
   "cell_type": "code",
   "execution_count": 14,
   "metadata": {},
   "outputs": [
    {
     "data": {
      "text/html": [
       "<div>\n",
       "<style scoped>\n",
       "    .dataframe tbody tr th:only-of-type {\n",
       "        vertical-align: middle;\n",
       "    }\n",
       "\n",
       "    .dataframe tbody tr th {\n",
       "        vertical-align: top;\n",
       "    }\n",
       "\n",
       "    .dataframe thead th {\n",
       "        text-align: right;\n",
       "    }\n",
       "</style>\n",
       "<table border=\"1\" class=\"dataframe\">\n",
       "  <thead>\n",
       "    <tr style=\"text-align: right;\">\n",
       "      <th></th>\n",
       "      <th>temperature</th>\n",
       "      <th>humidity</th>\n",
       "      <th>windspeed</th>\n",
       "    </tr>\n",
       "  </thead>\n",
       "  <tbody>\n",
       "    <tr>\n",
       "      <th>0</th>\n",
       "      <td>46.716528</td>\n",
       "      <td>0.815969</td>\n",
       "      <td>13.669663</td>\n",
       "    </tr>\n",
       "    <tr>\n",
       "      <th>1</th>\n",
       "      <td>48.350239</td>\n",
       "      <td>0.800497</td>\n",
       "      <td>15.199782</td>\n",
       "    </tr>\n",
       "    <tr>\n",
       "      <th>2</th>\n",
       "      <td>34.212394</td>\n",
       "      <td>0.592097</td>\n",
       "      <td>13.247558</td>\n",
       "    </tr>\n",
       "    <tr>\n",
       "      <th>3</th>\n",
       "      <td>34.520000</td>\n",
       "      <td>0.623196</td>\n",
       "      <td>11.687963</td>\n",
       "    </tr>\n",
       "    <tr>\n",
       "      <th>4</th>\n",
       "      <td>36.800562</td>\n",
       "      <td>0.624643</td>\n",
       "      <td>13.148281</td>\n",
       "    </tr>\n",
       "    <tr>\n",
       "      <th>...</th>\n",
       "      <td>...</td>\n",
       "      <td>...</td>\n",
       "      <td>...</td>\n",
       "    </tr>\n",
       "    <tr>\n",
       "      <th>726</th>\n",
       "      <td>39.102528</td>\n",
       "      <td>0.482493</td>\n",
       "      <td>10.801229</td>\n",
       "    </tr>\n",
       "    <tr>\n",
       "      <th>727</th>\n",
       "      <td>39.031972</td>\n",
       "      <td>0.480433</td>\n",
       "      <td>8.996301</td>\n",
       "    </tr>\n",
       "    <tr>\n",
       "      <th>728</th>\n",
       "      <td>39.031972</td>\n",
       "      <td>0.717730</td>\n",
       "      <td>11.829425</td>\n",
       "    </tr>\n",
       "    <tr>\n",
       "      <th>729</th>\n",
       "      <td>39.243472</td>\n",
       "      <td>0.523039</td>\n",
       "      <td>12.805314</td>\n",
       "    </tr>\n",
       "    <tr>\n",
       "      <th>730</th>\n",
       "      <td>35.859472</td>\n",
       "      <td>0.494808</td>\n",
       "      <td>9.346850</td>\n",
       "    </tr>\n",
       "  </tbody>\n",
       "</table>\n",
       "<p>731 rows × 3 columns</p>\n",
       "</div>"
      ],
      "text/plain": [
       "     temperature  humidity  windspeed\n",
       "0      46.716528  0.815969  13.669663\n",
       "1      48.350239  0.800497  15.199782\n",
       "2      34.212394  0.592097  13.247558\n",
       "3      34.520000  0.623196  11.687963\n",
       "4      36.800562  0.624643  13.148281\n",
       "..           ...       ...        ...\n",
       "726    39.102528  0.482493  10.801229\n",
       "727    39.031972  0.480433   8.996301\n",
       "728    39.031972  0.717730  11.829425\n",
       "729    39.243472  0.523039  12.805314\n",
       "730    35.859472  0.494808   9.346850\n",
       "\n",
       "[731 rows x 3 columns]"
      ]
     },
     "execution_count": 14,
     "metadata": {},
     "output_type": "execute_result"
    }
   ],
   "source": [
    "predictors = list(bikes.columns)\n",
    "predictors.remove(response)\n",
    "x = bikes[predictors]\n",
    "x"
   ]
  },
  {
   "cell_type": "code",
   "execution_count": 15,
   "metadata": {},
   "outputs": [],
   "source": [
    "from sklearn.model_selection import train_test_split\n",
    "x_train, x_test, y_train, y_test = train_test_split(x, y, random_state = 1234) "
   ]
  },
  {
   "cell_type": "markdown",
   "metadata": {},
   "source": [
    "## 4. Train the Model"
   ]
  },
  {
   "cell_type": "code",
   "execution_count": 16,
   "metadata": {},
   "outputs": [],
   "source": [
    "from sklearn.linear_model import LinearRegression\n",
    "model =  LinearRegression().fit(x_train , y_train)"
   ]
  },
  {
   "cell_type": "code",
   "execution_count": 17,
   "metadata": {},
   "outputs": [
    {
     "data": {
      "text/plain": [
       "array([3800.68469948])"
      ]
     },
     "execution_count": 17,
     "metadata": {},
     "output_type": "execute_result"
    }
   ],
   "source": [
    "model.intercept_"
   ]
  },
  {
   "cell_type": "code",
   "execution_count": 18,
   "metadata": {},
   "outputs": [
    {
     "data": {
      "text/plain": [
       "array([[   80.35314543, -4665.73867387,  -196.21650368]])"
      ]
     },
     "execution_count": 18,
     "metadata": {},
     "output_type": "execute_result"
    }
   ],
   "source": [
    "model.coef_"
   ]
  },
  {
   "cell_type": "markdown",
   "metadata": {},
   "source": [
    "The model coefficients correspond to the order in which the independent variables are listed in the training data. This means that the equation for the fitted regression line can be written as:\n",
    "\n",
    "$y = 3800.68 + 80.35 \\times temperature - 4665.74 \\times humidity - 196.22 \\times windspeed$\n",
    "\n",
    "With the linear regression equation, we can estimate what our model will predict given any weather condition. For example, given a temperature of $72^{\\circ}F$, $22\\%$ humidity and windspeed of $5$ miles per hour, our model would predict:\n",
    "\n",
    "$7,578 \\text{ bikes} \\approx 3800.68 + 80.35 \\times 72 - 4665.74 \\times .22 - 196.22 \\times 5$\n"
   ]
  },
  {
   "cell_type": "markdown",
   "metadata": {},
   "source": [
    "## 5. Evaluate the Model"
   ]
  },
  {
   "cell_type": "code",
   "execution_count": 19,
   "metadata": {
    "scrolled": true
   },
   "outputs": [
    {
     "data": {
      "text/plain": [
       "0.9820623857913312"
      ]
     },
     "execution_count": 19,
     "metadata": {},
     "output_type": "execute_result"
    }
   ],
   "source": [
    "model.score(x_test,y_test)"
   ]
  },
  {
   "cell_type": "code",
   "execution_count": 22,
   "metadata": {},
   "outputs": [],
   "source": [
    "y_pred = model.predict(x_test)"
   ]
  },
  {
   "cell_type": "code",
   "execution_count": 23,
   "metadata": {
    "scrolled": true
   },
   "outputs": [
    {
     "data": {
      "text/plain": [
       "194.31620720519675"
      ]
     },
     "execution_count": 23,
     "metadata": {},
     "output_type": "execute_result"
    }
   ],
   "source": [
    "from sklearn.metrics import mean_absolute_error\n",
    "mean_absolute_error(y_test,y_pred)"
   ]
  },
  {
   "cell_type": "code",
   "execution_count": 24,
   "metadata": {},
   "outputs": [
    {
     "data": {
      "text/plain": [
       "array([[ 557.43947112],\n",
       "       [3575.47207354],\n",
       "       [4812.63088879],\n",
       "       [7528.64736936],\n",
       "       [5031.98487142],\n",
       "       [4487.81330642],\n",
       "       [7737.0484636 ],\n",
       "       [4510.14215352],\n",
       "       [7293.73524785],\n",
       "       [2163.20949145],\n",
       "       [3804.19814551],\n",
       "       [2127.53454277],\n",
       "       [6730.82068468],\n",
       "       [3362.69207228],\n",
       "       [3633.2676828 ],\n",
       "       [5931.56468032],\n",
       "       [6793.9369413 ],\n",
       "       [2984.5618093 ],\n",
       "       [2014.65846877],\n",
       "       [4033.79341746],\n",
       "       [4751.03695889],\n",
       "       [4993.01366089],\n",
       "       [3882.96299337],\n",
       "       [6512.04208618],\n",
       "       [2476.83869867],\n",
       "       [4471.94084617],\n",
       "       [6277.98734395],\n",
       "       [2001.04399988],\n",
       "       [6184.1467469 ],\n",
       "       [8801.13826205],\n",
       "       [4509.0049366 ],\n",
       "       [3319.26952902],\n",
       "       [4646.15111922],\n",
       "       [7411.69161896],\n",
       "       [4989.79197694],\n",
       "       [2802.32545482],\n",
       "       [3500.76505411],\n",
       "       [7901.35189112],\n",
       "       [5070.41439198],\n",
       "       [3755.84997022],\n",
       "       [5304.36080441],\n",
       "       [2096.36096129],\n",
       "       [2171.52987142],\n",
       "       [4497.79898265],\n",
       "       [4754.78817096],\n",
       "       [4687.96756085],\n",
       "       [6726.0912726 ],\n",
       "       [1755.64355644],\n",
       "       [4268.09718078],\n",
       "       [4485.45950382],\n",
       "       [4848.92797006],\n",
       "       [3081.45940476],\n",
       "       [3684.5625764 ],\n",
       "       [3251.30839026],\n",
       "       [5636.26364867],\n",
       "       [2455.15954713],\n",
       "       [7343.17227938],\n",
       "       [3088.1689875 ],\n",
       "       [4197.65443217],\n",
       "       [4469.73107491],\n",
       "       [3069.1029763 ],\n",
       "       [5150.07398708],\n",
       "       [3848.21449541],\n",
       "       [5119.35783833],\n",
       "       [1410.64400109],\n",
       "       [4749.26526545],\n",
       "       [3213.43844636],\n",
       "       [7183.20810514],\n",
       "       [1297.02637476],\n",
       "       [4560.21401033],\n",
       "       [4353.83788315],\n",
       "       [3824.76997013],\n",
       "       [5502.72367432],\n",
       "       [4349.01135308],\n",
       "       [1396.01568443],\n",
       "       [2941.90547674],\n",
       "       [3968.93537287],\n",
       "       [2218.44636806],\n",
       "       [4246.25222029],\n",
       "       [1586.94115983],\n",
       "       [6398.82398205],\n",
       "       [7776.41631877],\n",
       "       [4751.11085416],\n",
       "       [4842.51599197],\n",
       "       [3758.151735  ],\n",
       "       [3803.24594751],\n",
       "       [3459.70533493],\n",
       "       [4875.79887517],\n",
       "       [4228.39899363],\n",
       "       [3038.66093186],\n",
       "       [6245.28596874],\n",
       "       [4024.70849865],\n",
       "       [6041.00839811],\n",
       "       [4821.22699549],\n",
       "       [3119.75124921],\n",
       "       [5742.16357461],\n",
       "       [2191.59257877],\n",
       "       [7307.43097123],\n",
       "       [5103.94265221],\n",
       "       [4261.25369377],\n",
       "       [3718.34111693],\n",
       "       [3628.74497106],\n",
       "       [4661.8071595 ],\n",
       "       [2119.78463122],\n",
       "       [ 830.82454439],\n",
       "       [7229.81371926],\n",
       "       [6773.31747198],\n",
       "       [5108.07899339],\n",
       "       [2076.74309454],\n",
       "       [6970.72566259],\n",
       "       [5943.5113346 ],\n",
       "       [6159.84946403],\n",
       "       [2539.45735714],\n",
       "       [4719.19062802],\n",
       "       [1401.90295789],\n",
       "       [7501.57589319],\n",
       "       [4272.92629237],\n",
       "       [ 986.78001993],\n",
       "       [1235.40442338],\n",
       "       [6552.44410144],\n",
       "       [4468.41401832],\n",
       "       [4828.30486774],\n",
       "       [6111.00232796],\n",
       "       [2005.01093105],\n",
       "       [4890.37720659],\n",
       "       [4358.07123426],\n",
       "       [5764.6203769 ],\n",
       "       [ 805.38303206],\n",
       "       [4412.79875986],\n",
       "       [3382.17291092],\n",
       "       [4011.9798157 ],\n",
       "       [5708.72856609],\n",
       "       [1208.36608984],\n",
       "       [7098.09923265],\n",
       "       [2478.4555682 ],\n",
       "       [ 940.97314814],\n",
       "       [4771.46187286],\n",
       "       [7200.85053847],\n",
       "       [5029.3692429 ],\n",
       "       [5145.06138962],\n",
       "       [2572.62150216],\n",
       "       [4595.96064836],\n",
       "       [3769.28762926],\n",
       "       [5989.35169119],\n",
       "       [7207.82138667],\n",
       "       [7300.73353579],\n",
       "       [3557.06457433],\n",
       "       [5217.26549557],\n",
       "       [2930.22696556],\n",
       "       [2586.92331941],\n",
       "       [4346.80674363],\n",
       "       [3917.26373635],\n",
       "       [6857.58335962],\n",
       "       [2281.7576351 ],\n",
       "       [6239.48064251],\n",
       "       [4200.1308026 ],\n",
       "       [1160.214453  ],\n",
       "       [5440.36596958],\n",
       "       [6551.6571284 ],\n",
       "       [5949.80273261],\n",
       "       [4512.48374679],\n",
       "       [6765.66418101],\n",
       "       [ 978.37467544],\n",
       "       [4840.19959019],\n",
       "       [3965.10280999],\n",
       "       [5289.80678934],\n",
       "       [3324.84144065],\n",
       "       [2222.55647543],\n",
       "       [8650.44001311],\n",
       "       [4166.03001828],\n",
       "       [4763.13882284],\n",
       "       [4978.08985119],\n",
       "       [4216.57848606],\n",
       "       [1373.97436488],\n",
       "       [4616.6626596 ],\n",
       "       [2026.18140627],\n",
       "       [2756.54102092],\n",
       "       [5531.28101768],\n",
       "       [1909.98398708],\n",
       "       [3850.367211  ],\n",
       "       [4840.92548531],\n",
       "       [6786.92254973],\n",
       "       [2256.60054241]])"
      ]
     },
     "execution_count": 24,
     "metadata": {},
     "output_type": "execute_result"
    }
   ],
   "source": [
    "y_pred\n"
   ]
  },
  {
   "cell_type": "code",
   "execution_count": null,
   "metadata": {},
   "outputs": [],
   "source": []
  }
 ],
 "metadata": {
  "colab": {
   "collapsed_sections": [],
   "name": "3.3 - Pandas Data Selection.ipynb",
   "provenance": [],
   "toc_visible": true,
   "version": "0.3.2"
  },
  "kernelspec": {
   "display_name": "Python 3 (ipykernel)",
   "language": "python",
   "name": "python3"
  },
  "language_info": {
   "codemirror_mode": {
    "name": "ipython",
    "version": 3
   },
   "file_extension": ".py",
   "mimetype": "text/x-python",
   "name": "python",
   "nbconvert_exporter": "python",
   "pygments_lexer": "ipython3",
   "version": "3.11.4"
  }
 },
 "nbformat": 4,
 "nbformat_minor": 1
}
